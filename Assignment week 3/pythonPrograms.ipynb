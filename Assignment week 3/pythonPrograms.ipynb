{
 "cells": [
  {
   "cell_type": "code",
   "execution_count": 4,
   "id": "405b4c51",
   "metadata": {},
   "outputs": [],
   "source": [
    "def merge_intervals(lst):\n",
    "    if not lst:\n",
    "        return []\n",
    "\n",
    "    lst.sort(key=lambda x: x[0])\n",
    "    res = [lst[0]]\n",
    "\n",
    "    for i in lst[1:]:\n",
    "        last = res[-1]\n",
    "        if i[0] <= last[1]:\n",
    "            last[1] = max(last[1], i[1])\n",
    "        else:\n",
    "            res.append(i)\n",
    "\n",
    "    return res\n"
   ]
  },
  {
   "cell_type": "markdown",
   "id": "546986dc",
   "metadata": {},
   "source": [
    "Merge Intervals"
   ]
  },
  {
   "cell_type": "code",
   "execution_count": 5,
   "id": "91a6a935",
   "metadata": {},
   "outputs": [],
   "source": [
    "from collections import deque\n",
    "\n",
    "def task_scheduler(tasks, dependencies):\n",
    "    graph = {task: [] for task in tasks}\n",
    "    indegree = {task: 0 for task in tasks}\n",
    "\n",
    "    for task, prereq in dependencies:\n",
    "        graph[prereq].append(task)\n",
    "        indegree[task] += 1\n",
    "\n",
    "    queue = deque([task for task in tasks if indegree[task] == 0])\n",
    "    order = []\n",
    "\n",
    "    while queue:\n",
    "        current = queue.popleft()\n",
    "        order.append(current)\n",
    "\n",
    "        for neighbor in graph[current]:\n",
    "            indegree[neighbor] -= 1\n",
    "            if indegree[neighbor] == 0:\n",
    "                queue.append(neighbor)\n",
    "\n",
    "    return order if len(order) == len(tasks) else None\n"
   ]
  }
 ],
 "metadata": {
  "kernelspec": {
   "display_name": "Python 3",
   "language": "python",
   "name": "python3"
  },
  "language_info": {
   "codemirror_mode": {
    "name": "ipython",
    "version": 3
   },
   "file_extension": ".py",
   "mimetype": "text/x-python",
   "name": "python",
   "nbconvert_exporter": "python",
   "pygments_lexer": "ipython3",
   "version": "3.12.5"
  }
 },
 "nbformat": 4,
 "nbformat_minor": 5
}
